{
 "cells": [
  {
   "cell_type": "code",
   "execution_count": 12,
   "metadata": {
    "collapsed": false
   },
   "outputs": [],
   "source": [
    "import pandas as pd\n",
    "import networkx as nx\n",
    "import numpy as np\n",
    "import community\n",
    "import matplotlib.pyplot as plt"
   ]
  },
  {
   "cell_type": "code",
   "execution_count": 14,
   "metadata": {
    "collapsed": true
   },
   "outputs": [],
   "source": [
    "%matplotlib inline"
   ]
  },
  {
   "cell_type": "code",
   "execution_count": 2,
   "metadata": {
    "collapsed": true
   },
   "outputs": [],
   "source": [
    "data = pd.read_csv(\"../data/smalldata.csv\")"
   ]
  },
  {
   "cell_type": "code",
   "execution_count": 21,
   "metadata": {
    "collapsed": true
   },
   "outputs": [],
   "source": [
    "top = 100"
   ]
  },
  {
   "cell_type": "code",
   "execution_count": 4,
   "metadata": {
    "collapsed": true
   },
   "outputs": [],
   "source": [
    "def update_nodes(node, plays):\n",
    "    if graph.has_node(node):\n",
    "            graph.node[node]['weight'] = plays\n",
    "    else:\n",
    "        graph.add_node(node)\n",
    "        graph.node[node]['weight'] = plays\n",
    "\n",
    "def update_edges(src, dst, n_common_users):\n",
    "    if graph.has_edge(src,dst):\n",
    "        graph.edge[src][dst]['weight'] = graph[src][dst]['weight'] + n_common_users\n",
    "    else:\n",
    "        graph.add_edge(src, dst)\n",
    "        graph.edge[src][dst]['weight'] = n_common_users"
   ]
  },
  {
   "cell_type": "code",
   "execution_count": 5,
   "metadata": {
    "collapsed": false
   },
   "outputs": [],
   "source": [
    "groups = data.groupby('artist_name').aggregate({'plays': [np.sum]}).sort([ ('plays','sum') ], ascending=False)"
   ]
  },
  {
   "cell_type": "code",
   "execution_count": 6,
   "metadata": {
    "collapsed": false
   },
   "outputs": [],
   "source": [
    "top_artists, top_plays = groups.head(top).index, groups.head(top)['plays']['sum'].values"
   ]
  },
  {
   "cell_type": "code",
   "execution_count": 102,
   "metadata": {
    "collapsed": false
   },
   "outputs": [],
   "source": [
    "graph=nx.Graph()\n",
    "for artistA, playsA in zip(top_artists[1:], top_plays[1:]):\n",
    "    update_nodes(artistA, int(playsA) )\n",
    "    users_per_artistA = data[data['artist_name'] == artistA]\n",
    "    for artistB, playsB in zip(top_artists[1:], top_plays[1:]):\n",
    "        if artistA == artistB: \n",
    "            continue\n",
    "        users_per_artistB = data[data['artist_name'] == artistB]\n",
    "        count = list(users_per_artistA.userid.isin(users_per_artistB.userid)).count(True)\n",
    "        \n",
    "        #print users_per_artistA.shape\n",
    "        #print users_per_artistB.shape\n",
    "        #print count\n",
    "        if count > 1:\n",
    "            temp = pd.merge(users_per_artistA, users_per_artistB, on='userid', how='inner')\n",
    "            temp['total'] = temp['plays_x'] / temp['plays_y']\n",
    "            \n",
    "            update_nodes(artistB, int(playsB))\n",
    "            update_edges(artistA, artistB, int(temp['total'].sum()) )"
   ]
  },
  {
   "cell_type": "code",
   "execution_count": 103,
   "metadata": {
    "collapsed": false
   },
   "outputs": [],
   "source": [
    "nx.write_graphml(graph.to_undirected(), 'output.graphml')"
   ]
  },
  {
   "cell_type": "code",
   "execution_count": 104,
   "metadata": {
    "collapsed": false
   },
   "outputs": [],
   "source": [
    "part = community.best_partition(graph)"
   ]
  },
  {
   "cell_type": "code",
   "execution_count": 105,
   "metadata": {
    "collapsed": true
   },
   "outputs": [],
   "source": [
    "values = [part.get(node) for node in graph.nodes()]"
   ]
  },
  {
   "cell_type": "code",
   "execution_count": 106,
   "metadata": {
    "collapsed": false
   },
   "outputs": [
    {
     "name": "stdout",
     "output_type": "stream",
     "text": [
      "los suaves --\n",
      "\n",
      "metallica -- queen -- arch enemy -- moonspell -- rammstein -- evanescence -- children of bodom -- oasis -- dimmu borgir -- sonata arctica -- depeche mode -- anathema -- u2 -- kylie minogue -- coldplay -- dream theater -- apocalyptica -- muse -- amon amarth -- madonna -- franz ferdinand -- nightwish -- in flames --\n",
      "\n",
      "yeah yeah yeahs -- mgmt -- kent -- kings of leon -- bloc party -- the strokes -- röyksopp -- arctic monkeys -- the kooks --\n",
      "\n",
      "polar bear club --\n",
      "\n",
      "nine inch nails -- bob dylan -- portishead -- boris -- the cure -- mogwai -- devendra banhart -- sigur rós -- led zeppelin -- norah jones -- beck -- the libertines -- the beatles -- my bloody valentine -- pink floyd -- the rolling stones -- deerhoof -- the clash -- johnny cash -- the brian jonestown massacre -- david bowie -- pj harvey -- the white stripes -- they might be giants --\n",
      "\n",
      "rise against -- coheed and cambria -- blink-182 -- placebo -- linkin park -- fall out boy -- finch -- afi --\n",
      "\n",
      "john pizzarelli --\n",
      "\n",
      "sufjan stevens -- luminous orange -- arcade fire -- broken social scene -- tegan and sara -- feist -- owl city -- death cab for cutie -- okkervil river -- stars -- the shins -- animal collective -- death from above 1979 -- bright eyes -- yann tiersen -- air -- the smashing pumpkins -- rilo kiley -- red hot chili peppers -- boards of canada --\n",
      "\n",
      "the orb --\n",
      "\n",
      "kingston wall --\n",
      "\n",
      "have heart --\n",
      "\n",
      "dead can dance --\n",
      "\n",
      "3 na bossa --\n",
      "\n",
      "sister hazel --\n",
      "\n",
      "coaltar of the deepers --\n",
      "\n",
      "weird al yankovic --\n",
      "\n",
      "the most serene republic --\n",
      "\n",
      "dar williams --\n",
      "\n",
      "vienna teng --\n",
      "\n",
      "thea gilmore --\n",
      "\n"
     ]
    }
   ],
   "source": [
    "for i in  np.unique(values):\n",
    "    for node in graph.nodes():\n",
    "        if part.get(node) == i:\n",
    "            print node,\n",
    "            print \"--\",\n",
    "    print\n",
    "    print"
   ]
  },
  {
   "cell_type": "code",
   "execution_count": 85,
   "metadata": {
    "collapsed": false
   },
   "outputs": [
    {
     "data": {
      "image/png": "[encoded data removed]",
      "text/plain": [
       "<matplotlib.figure.Figure at 0x7f5e4f9ef7d0>"
      ]
     },
     "metadata": {},
     "output_type": "display_data"
    }
   ],
   "source": [
    "G=graph\n",
    "partition = community.best_partition(G)\n",
    "\n",
    "#drawing\n",
    "size = float(len(set(partition.values())))\n",
    "pos = nx.spring_layout(G)\n",
    "count = 0.\n",
    "for com in set(partition.values()) :\n",
    "    count = count + 1.\n",
    "    list_nodes = [nodes for nodes in partition.keys()\n",
    "                                if partition[nodes] == com]\n",
    "    nx.draw_networkx_nodes(G, pos, list_nodes, node_size = 20,\n",
    "                                node_color = str(count / size))\n",
    "\n",
    "\n",
    "nx.draw_networkx_edges(G,pos, alpha=0.5)\n",
    "plt.show()"
   ]
  },
  {
   "cell_type": "code",
   "execution_count": null,
   "metadata": {
    "collapsed": true
   },
   "outputs": [],
   "source": []
  }
 ],
 "metadata": {
  "kernelspec": {
   "display_name": "Python 2",
   "language": "python",
   "name": "python2"
  },
  "language_info": {
   "codemirror_mode": {
    "name": "ipython",
    "version": 2
   },
   "file_extension": ".py",
   "mimetype": "text/x-python",
   "name": "python",
   "nbconvert_exporter": "python",
   "pygments_lexer": "ipython2",
   "version": "2.7.6"
  }
 },
 "nbformat": 4,
 "nbformat_minor": 0
}
