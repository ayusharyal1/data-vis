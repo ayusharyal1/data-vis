{
 "cells": [
  {
   "cell_type": "code",
   "execution_count": 543,
   "metadata": {
    "collapsed": false
   },
   "outputs": [
    {
     "data": {
      "text/html": [
       "\n",
       "           <script>\n",
       "               \n",
       "                function vct_load_lib(url, callback){\n",
       "                      if(typeof d3 !== 'undefined' &&\n",
       "                         url === 'http://d3js.org/d3.v3.min.js'){\n",
       "                        callback()\n",
       "                      }\n",
       "                      var s = document.createElement('script');\n",
       "                      s.src = url;\n",
       "                      s.async = true;\n",
       "                      s.onreadystatechange = s.onload = callback;\n",
       "                      s.onerror = function(){\n",
       "                        console.warn(\"failed to load library \" + url);\n",
       "                        };\n",
       "                      document.getElementsByTagName(\"head\")[0].appendChild(s);\n",
       "                };\n",
       "                var vincent_event = new CustomEvent(\n",
       "                  \"vincent_libs_loaded\",\n",
       "                  {bubbles: true, cancelable: true}\n",
       "                );\n",
       "                \n",
       "               function load_all_libs(){\n",
       "                  console.log('Loading Vincent libs...')\n",
       "                  vct_load_lib('http://d3js.org/d3.v3.min.js', function(){\n",
       "                  vct_load_lib('http://d3js.org/d3.geo.projection.v0.min.js', function(){\n",
       "                  vct_load_lib('http://wrobstory.github.io/d3-cloud/d3.layout.cloud.js', function(){\n",
       "                  vct_load_lib('http://wrobstory.github.io/vega/vega.v1.3.3.js', function(){\n",
       "                  window.dispatchEvent(vincent_event);\n",
       "                  });\n",
       "                  });\n",
       "                  });\n",
       "                  });\n",
       "               };\n",
       "               if(typeof define === \"function\" && define.amd){\n",
       "                    if (window['d3'] === undefined ||\n",
       "                        window['topojson'] === undefined){\n",
       "                        require.config(\n",
       "                            {paths: {\n",
       "                              d3: 'http://d3js.org/d3.v3.min',\n",
       "                              topojson: 'http://d3js.org/topojson.v1.min'\n",
       "                              }\n",
       "                            }\n",
       "                          );\n",
       "                        require([\"d3\"], function(d3){\n",
       "                            console.log('Loading Vincent from require.js...')\n",
       "                            window.d3 = d3;\n",
       "                            require([\"topojson\"], function(topojson){\n",
       "                                window.topojson = topojson;\n",
       "                                load_all_libs();\n",
       "                            });\n",
       "                        });\n",
       "                    } else {\n",
       "                        load_all_libs();\n",
       "                    };\n",
       "               }else{\n",
       "                    console.log('Require.js not found, loading manually...')\n",
       "                    load_all_libs();\n",
       "               };\n",
       "\n",
       "           </script>"
      ],
      "text/plain": [
       "<IPython.core.display.HTML object>"
      ]
     },
     "metadata": {},
     "output_type": "display_data"
    }
   ],
   "source": [
    "import pandas as pd\n",
    "import networkx as nx\n",
    "import numpy as np\n",
    "import community\n",
    "import matplotlib.pyplot as plt\n",
    "import vincent\n",
    "from vincent.values import ValueRef\n",
    "from vincent.legends import LegendProperties\n",
    "from vincent.properties import PropertySet\n",
    "import json\n",
    "vincent.core.initialize_notebook()\n",
    "#from mpl_toolkits.basemap import Basemap\n",
    "\n",
    "%matplotlib inline"
   ]
  },
  {
   "cell_type": "code",
   "execution_count": 544,
   "metadata": {
    "collapsed": true
   },
   "outputs": [],
   "source": [
    "def update_nodes(node, plays):\n",
    "    if graph.has_node(node):\n",
    "            graph.node[node]['weight'] = plays\n",
    "    else:\n",
    "        graph.add_node(node)\n",
    "        graph.node[node]['weight'] = plays\n",
    "\n",
    "def update_edges(src, dst, n_common_users):\n",
    "    if graph.has_edge(src,dst):\n",
    "        graph.edge[src][dst]['weight'] = graph[src][dst]['weight'] + n_common_users\n",
    "    else:\n",
    "        graph.add_edge(src, dst)\n",
    "        graph.edge[src][dst]['weight'] = n_common_users"
   ]
  },
  {
   "cell_type": "code",
   "execution_count": 545,
   "metadata": {
    "collapsed": true
   },
   "outputs": [],
   "source": [
    "def get_group(artist):\n",
    "    gid = part.get(artist)\n",
    "    if gid == None or gid not in comm_id:\n",
    "        gid = 0\n",
    "        return gid\n",
    "    return gid+1"
   ]
  },
  {
   "cell_type": "code",
   "execution_count": 546,
   "metadata": {
    "collapsed": false
   },
   "outputs": [],
   "source": [
    "def get_artists(gid):\n",
    "    return [node for node in graph.nodes() if part.get(node)==gid]"
   ]
  },
  {
   "cell_type": "code",
   "execution_count": 547,
   "metadata": {
    "collapsed": true
   },
   "outputs": [],
   "source": [
    "def norm(x):\n",
    "    x.plays = x.plays/total if x.userid == userid else x.plays\n",
    "    return x\n",
    "    "
   ]
  },
  {
   "cell_type": "code",
   "execution_count": 548,
   "metadata": {
    "collapsed": false
   },
   "outputs": [],
   "source": [
    "def normalize(data):\n",
    "    for userid in np.unique(data['userid']):\n",
    "        plays = data[data['userid'] == userid]['plays']\n",
    "        #plays = plays/plays.sum()\n",
    "        total = plays.sum()\n",
    "        \n",
    "        data.ix[data.userid == userid, 'plays'] /= total\n",
    "        "
   ]
  },
  {
   "cell_type": "code",
   "execution_count": 549,
   "metadata": {
    "collapsed": true
   },
   "outputs": [],
   "source": [
    "data = pd.read_csv(\"../data/10000users.csv\")"
   ]
  },
  {
   "cell_type": "code",
   "execution_count": 527,
   "metadata": {
    "collapsed": false
   },
   "outputs": [
    {
     "ename": "NameError",
     "evalue": "name 'gid' is not defined",
     "output_type": "error",
     "traceback": [
      "\u001b[1;31m---------------------------------------------------------------------------\u001b[0m",
      "\u001b[1;31mNameError\u001b[0m                                 Traceback (most recent call last)",
      "\u001b[1;32m<ipython-input-527-ec0cebd4ffe3>\u001b[0m in \u001b[0;36m<module>\u001b[1;34m()\u001b[0m\n\u001b[0;32m      1\u001b[0m \u001b[1;31m#d = normalize(data)\u001b[0m\u001b[1;33m\u001b[0m\u001b[1;33m\u001b[0m\u001b[0m\n\u001b[1;32m----> 2\u001b[1;33m \u001b[0mgid\u001b[0m\u001b[1;33m\u001b[0m\u001b[0m\n\u001b[0m",
      "\u001b[1;31mNameError\u001b[0m: name 'gid' is not defined"
     ]
    }
   ],
   "source": [
    "#d = normalize(data)"
   ]
  },
  {
   "cell_type": "code",
   "execution_count": 550,
   "metadata": {
    "collapsed": false
   },
   "outputs": [
    {
     "data": {
      "text/plain": [
       "(488518, 8)"
      ]
     },
     "execution_count": 550,
     "metadata": {},
     "output_type": "execute_result"
    }
   ],
   "source": [
    "data.shape"
   ]
  },
  {
   "cell_type": "code",
   "execution_count": 551,
   "metadata": {
    "collapsed": true
   },
   "outputs": [],
   "source": [
    "top = 30"
   ]
  },
  {
   "cell_type": "code",
   "execution_count": 552,
   "metadata": {
    "collapsed": false
   },
   "outputs": [],
   "source": [
    "groups = data.groupby('artist_name').aggregate({'plays': [np.sum]}).sort([ ('plays','sum') ], ascending=False)"
   ]
  },
  {
   "cell_type": "code",
   "execution_count": 553,
   "metadata": {
    "collapsed": false
   },
   "outputs": [],
   "source": [
    "top_artists, top_plays = groups.head(top).index, groups.head(top)['plays']['sum'].values"
   ]
  },
  {
   "cell_type": "code",
   "execution_count": 554,
   "metadata": {
    "collapsed": false
   },
   "outputs": [
    {
     "data": {
      "text/plain": [
       "'the beatles,radiohead,coldplay,muse,pink floyd,linkin park,metallica,nine inch nails,red hot chili peppers,system of a down,depeche mode,placebo,death cab for cutie,in flames,rammstein,the killers,bob dylan,arctic monkeys,nirvana,tool,queen,led zeppelin,the cure,iron maiden,nightwish,u2,sigur r\\xc3\\xb3s,bj\\xc3\\xb6rk,david bowie,rise against'"
      ]
     },
     "execution_count": 554,
     "metadata": {},
     "output_type": "execute_result"
    }
   ],
   "source": [
    "','.join(top_artists)"
   ]
  },
  {
   "cell_type": "code",
   "execution_count": 296,
   "metadata": {
    "collapsed": false
   },
   "outputs": [],
   "source": [
    "top_plays = top_plays#/float(top_plays.max())"
   ]
  },
  {
   "cell_type": "code",
   "execution_count": 555,
   "metadata": {
    "collapsed": false
   },
   "outputs": [],
   "source": [
    "graph=nx.Graph()\n",
    "for artistA, playsA in zip(top_artists, top_plays):\n",
    "    update_nodes(artistA, int(playsA) )\n",
    "    users_per_artistA = data[data['artist_name'] == artistA]\n",
    "    for artistB, playsB in zip(top_artists, top_plays):\n",
    "        if artistA == artistB: \n",
    "            continue\n",
    "        users_per_artistB = data[data['artist_name'] == artistB]\n",
    "        count = list(users_per_artistA.userid.isin(users_per_artistB.userid)).count(True)\n",
    "        \n",
    "        #print users_per_artistA.shape\n",
    "        #print users_per_artistB.shape\n",
    "        #print count\n",
    "        if count > 1:\n",
    "            temp = pd.merge(users_per_artistA, users_per_artistB, on='userid', how='inner')\n",
    "            temp['total'] = temp['plays_x'] + temp['plays_y']\n",
    "            #temp['total'] = temp['total']/float(temp['total'].max() )\n",
    "            update_nodes(artistB, int(playsB))\n",
    "            update_edges(artistA, artistB, int(temp['total'].sum()) )"
   ]
  },
  {
   "cell_type": "code",
   "execution_count": 556,
   "metadata": {
    "collapsed": false
   },
   "outputs": [],
   "source": [
    "nx.write_graphml(graph.to_undirected(), '10000users_latest.graphml')"
   ]
  },
  {
   "cell_type": "code",
   "execution_count": 557,
   "metadata": {
    "collapsed": false
   },
   "outputs": [],
   "source": [
    "part = community.best_partition(graph)"
   ]
  },
  {
   "cell_type": "code",
   "execution_count": 558,
   "metadata": {
    "collapsed": false
   },
   "outputs": [
    {
     "data": {
      "text/plain": [
       "0.12777137293373447"
      ]
     },
     "execution_count": 558,
     "metadata": {},
     "output_type": "execute_result"
    }
   ],
   "source": [
    "community.modularity(part, graph)"
   ]
  },
  {
   "cell_type": "code",
   "execution_count": 559,
   "metadata": {
    "collapsed": false
   },
   "outputs": [
    {
     "data": {
      "text/plain": [
       "array([0, 1, 2])"
      ]
     },
     "execution_count": 559,
     "metadata": {},
     "output_type": "execute_result"
    }
   ],
   "source": [
    "values = [part.get(node) for node in graph.nodes()]\n",
    "np.unique(values)"
   ]
  },
  {
   "cell_type": "code",
   "execution_count": 560,
   "metadata": {
    "collapsed": false
   },
   "outputs": [
    {
     "name": "stdout",
     "output_type": "stream",
     "text": [
      "rammstein -- red hot chili peppers -- linkin park -- rise against -- iron maiden -- nightwish -- tool -- system of a down -- nirvana -- metallica -- in flames --\n",
      "\n",
      "bob dylan -- queen -- the beatles -- u2 -- pink floyd -- david bowie -- led zeppelin --\n",
      "\n",
      "depeche mode -- nine inch nails -- sigur rós -- death cab for cutie -- radiohead -- björk -- coldplay -- muse -- the cure -- the killers -- arctic monkeys -- placebo --\n",
      "\n"
     ]
    },
    {
     "data": {
      "text/plain": [
       "{0, 1, 2}"
      ]
     },
     "execution_count": 560,
     "metadata": {},
     "output_type": "execute_result"
    }
   ],
   "source": [
    "comm_id = set()\n",
    "for i in  np.unique(values):\n",
    "    for node in graph.nodes():\n",
    "        if part.get(node) == i:\n",
    "            if values.count(i) > 3:\n",
    "                comm_id.add(i)\n",
    "            print node,\n",
    "            print \"--\",\n",
    "    print\n",
    "    print\n",
    "comm_id"
   ]
  },
  {
   "cell_type": "code",
   "execution_count": 561,
   "metadata": {
    "collapsed": false
   },
   "outputs": [],
   "source": [
    "data['group'] = data['artist_name'].apply(get_group)"
   ]
  },
  {
   "cell_type": "code",
   "execution_count": 562,
   "metadata": {
    "collapsed": false
   },
   "outputs": [],
   "source": [
    "import colorsys\n",
    "\n",
    "def get_N_HexCol(N=5):\n",
    "\n",
    "    HSV_tuples = [(x*1.0/N, 0.5, 0.5) for x in xrange(N)]\n",
    "    hex_out = []\n",
    "    for rgb in HSV_tuples:\n",
    "        rgb = map(lambda x: int(x*255),colorsys.hsv_to_rgb(*rgb))\n",
    "        print rgb\n",
    "        hex_out.append(\"\".join(map(lambda x: chr(x).encode('hex'),rgb)))\n",
    "    hex_out  = ['#'+ h for h in hex_out]\n",
    "    print hex_out\n",
    "    return hex_out\n",
    "\n",
    "def get_colors(N=5):\n",
    "    tuples = [(225 - int(i* 200/float(N)), 237 - int(i* 200/float(N)), 234 - int(i * 200 /float(N) ) ) for i in range(N)]\n",
    "    hex_out = []\n",
    "    for rgb in tuples:\n",
    "        hex_out.append(\"\".join(map(lambda x: chr(x).encode('hex'), rgb)))\n",
    "    hex_out  = ['#'+ h for h in hex_out]\n",
    "    #print hex_out\n",
    "    return hex_out"
   ]
  },
  {
   "cell_type": "code",
   "execution_count": 563,
   "metadata": {
    "collapsed": false
   },
   "outputs": [],
   "source": [
    "def plot_map(x, title, data_col='plays'):\n",
    "    world_topo='../data/world-countries.topo.json'\n",
    "    geo_data = [{'name': 'countries',\n",
    "                 'url': world_topo,\n",
    "                 'feature': 'world-countries'},\n",
    "                {'name': 'countries_outline',\n",
    "                 'url': world_topo,\n",
    "                 'feature': 'world-countries'}]\n",
    "    vis = vincent.Map(data=x, geo_data=geo_data, scale=500,\n",
    "              projection='winkel3', data_bind=data_col, data_key='country',\n",
    "              map_key={'countries': 'properties.name'})\n",
    "    vis.legend(title=title)\n",
    "    del vis.marks[1].properties.update\n",
    "    vis.marks[1].properties.enter.stroke.value = '#000'\n",
    "    #vis.grammar()\n",
    "    vis.scales[0].domain = [1,x[data_col].max()]\n",
    "    vis.scales[0].range = get_colors(N=200)\n",
    "    vis.legends[0].properties = LegendProperties(labels=PropertySet(font_size=ValueRef(value=30)),title=PropertySet(font_size=ValueRef(value=30)))\n",
    "    vis.display()"
   ]
  },
  {
   "cell_type": "code",
   "execution_count": 564,
   "metadata": {
    "collapsed": false,
    "scrolled": false
   },
   "outputs": [
    {
     "data": {
      "text/html": [
       "<div id=\"vis2e843d9a44f24c81b8e32d9c3874ec35\"></div>\n",
       "<script>\n",
       "   ( function() {\n",
       "     var _do_plot = function() {\n",
       "       if (typeof vg === 'undefined') {\n",
       "         window.addEventListener('vincent_libs_loaded', _do_plot)\n",
       "         return;\n",
       "       }\n",
       "       vg.parse.spec({\"axes\": [], \"data\": [{\"name\": \"table\", \"values\": [{\"x\": \"United States\", \"y\": 22025423}, {\"x\": \"Germany\", \"y\": 8049266}, {\"x\": \"United Kingdom\", \"y\": 7189304}, {\"x\": \"Poland\", \"y\": 5304583}, {\"x\": \"Russian Federation\", \"y\": 4686970}, {\"x\": \"Brazil\", \"y\": 4423391}, {\"x\": \"Finland\", \"y\": 4180242}, {\"x\": \"Sweden\", \"y\": 3908039}, {\"x\": \"Canada\", \"y\": 2987096}, {\"x\": \"Netherlands\", \"y\": 2495633}, {\"x\": \"Spain\", \"y\": 2138782}, {\"x\": \"Japan\", \"y\": 2085313}, {\"x\": \"Australia\", \"y\": 2016499}, {\"x\": \"France\", \"y\": 1681615}, {\"x\": \"Italy\", \"y\": 1419045}, {\"x\": \"Norway\", \"y\": 1356715}, {\"x\": \"Turkey\", \"y\": 1205931}, {\"x\": \"Czech Republic\", \"y\": 1145181}, {\"x\": \"Ukraine\", \"y\": 1089801}, {\"x\": \"Mexico\", \"y\": 1015591}, {\"x\": \"Portugal\", \"y\": 848910}, {\"x\": \"Chile\", \"y\": 766473}, {\"x\": \"Bulgaria\", \"y\": 742064}, {\"x\": \"Belgium\", \"y\": 732791}, {\"x\": \"Denmark\", \"y\": 632484}, {\"x\": \"Austria\", \"y\": 612240}, {\"x\": \"New Zealand\", \"y\": 591893}, {\"x\": \"Switzerland\", \"y\": 582295}, {\"x\": \"Romania\", \"y\": 582006}, {\"x\": \"Croatia\", \"y\": 569520}, {\"x\": \"Ireland\", \"y\": 512942}, {\"x\": \"Argentina\", \"y\": 490541}, {\"x\": \"Latvia\", \"y\": 453395}, {\"x\": \"Serbia\", \"y\": 445599}, {\"x\": \"Lithuania\", \"y\": 394991}, {\"x\": \"Slovakia\", \"y\": 377489}, {\"x\": \"Hungary\", \"y\": 373983}, {\"x\": \"Israel\", \"y\": 360525}, {\"x\": \"Belarus\", \"y\": 320628}, {\"x\": \"Malaysia\", \"y\": 288406}, {\"x\": \"Venezuela\", \"y\": 279917}, {\"x\": \"Estonia\", \"y\": 253920}, {\"x\": \"Colombia\", \"y\": 246596}, {\"x\": \"India\", \"y\": 220663}, {\"x\": \"Greece\", \"y\": 215805}, {\"x\": \"Antarctica\", \"y\": 191355}, {\"x\": \"China\", \"y\": 175343}, {\"x\": \"Philippines\", \"y\": 157232}, {\"x\": \"Thailand\", \"y\": 155215}, {\"x\": \"Slovenia\", \"y\": 144197}, {\"x\": \"South Africa\", \"y\": 117271}, {\"x\": \"Peru\", \"y\": 105950}, {\"x\": \"Singapore\", \"y\": 104840}, {\"x\": \"Uruguay\", \"y\": 90827}, {\"x\": \"Moldova\", \"y\": 89939}, {\"x\": \"Hong Kong\", \"y\": 68702}, {\"x\": \"Puerto Rico\", \"y\": 67873}, {\"x\": \"Luxembourg\", \"y\": 63503}, {\"x\": \"Indonesia\", \"y\": 62864}, {\"x\": \"Bosnia and Herzegovina\", \"y\": 62484}, {\"x\": \"Ghana\", \"y\": 61899}, {\"x\": \"Malta\", \"y\": 61028}, {\"x\": \"Zimbabwe\", \"y\": 60643}, {\"x\": \"Iceland\", \"y\": 59965}, {\"x\": \"Korea, Republic of\", \"y\": 57842}, {\"x\": \"Egypt\", \"y\": 42969}, {\"x\": \"Iran, Islamic Republic of\", \"y\": 42028}, {\"x\": \"Heard Island and Mcdonald Islands\", \"y\": 40738}, {\"x\": \"Holy See (Vatican City State)\", \"y\": 39976}, {\"x\": \"Costa Rica\", \"y\": 39617}, {\"x\": \"Togo\", \"y\": 35675}, {\"x\": \"Micronesia, Federated States of\", \"y\": 33826}, {\"x\": \"Macedonia\", \"y\": 32581}, {\"x\": \"Cook Islands\", \"y\": 31622}, {\"x\": \"Georgia\", \"y\": 29778}, {\"x\": \"Fiji\", \"y\": 27624}, {\"x\": \"Guatemala\", \"y\": 27261}, {\"x\": \"Tunisia\", \"y\": 26048}, {\"x\": \"Dominican Republic\", \"y\": 25045}, {\"x\": \"Taiwan\", \"y\": 22421}, {\"x\": \"South Georgia and the South Sandwich Islands\", \"y\": 22337}, {\"x\": \"Azerbaijan\", \"y\": 22039}, {\"x\": \"Saudi Arabia\", \"y\": 21945}, {\"x\": \"Djibouti\", \"y\": 20692}, {\"x\": \"Bangladesh\", \"y\": 19693}, {\"x\": \"Kazakhstan\", \"y\": 19141}, {\"x\": \"French Southern Territories\", \"y\": 19072}, {\"x\": \"Northern Mariana Islands\", \"y\": 18668}, {\"x\": \"Afghanistan\", \"y\": 18485}, {\"x\": \"Uganda\", \"y\": 18289}, {\"x\": \"United States Minor Outlying Islands\", \"y\": 18010}, {\"x\": \"Syrian Arab Republic\", \"y\": 17635}, {\"x\": \"Andorra\", \"y\": 16788}, {\"x\": \"Libyan Arab Jamahiriya\", \"y\": 16477}, {\"x\": \"Antigua and Barbuda\", \"y\": 15171}, {\"x\": \"Ecuador\", \"y\": 14303}, {\"x\": \"Guadeloupe\", \"y\": 14103}, {\"x\": \"Cyprus\", \"y\": 13781}, {\"x\": \"El Salvador\", \"y\": 13230}, {\"x\": \"Cocos (Keeling) Islands\", \"y\": 13107}, {\"x\": \"New Caledonia\", \"y\": 12746}, {\"x\": \"Nauru\", \"y\": 12397}, {\"x\": \"Virgin Islands, British\", \"y\": 11792}, {\"x\": \"Paraguay\", \"y\": 11086}, {\"x\": \"Nepal\", \"y\": 10849}, {\"x\": \"Gabon\", \"y\": 10177}, {\"x\": \"Cambodia\", \"y\": 10144}, {\"x\": \"Bolivia\", \"y\": 9486}, {\"x\": \"Greenland\", \"y\": 8903}, {\"x\": \"Algeria\", \"y\": 8778}, {\"x\": \"Korea, Democratic People's Republic of\", \"y\": 8659}, {\"x\": \"Papua New Guinea\", \"y\": 8533}, {\"x\": \"Barbados\", \"y\": 8487}, {\"x\": \"Pakistan\", \"y\": 8052}, {\"x\": \"Burkina Faso\", \"y\": 7615}, {\"x\": \"Somalia\", \"y\": 7361}, {\"x\": \"Viet Nam\", \"y\": 6982}, {\"x\": \"Wallis and Futuna\", \"y\": 6961}, {\"x\": \"Qatar\", \"y\": 6891}, {\"x\": \"Turkmenistan\", \"y\": 6547}, {\"x\": \"Nicaragua\", \"y\": 6064}, {\"x\": \"Tanzania, United Republic of\", \"y\": 5992}, {\"x\": \"Sri Lanka\", \"y\": 5695}, {\"x\": \"Pitcairn\", \"y\": 5343}, {\"x\": \"Seychelles\", \"y\": 4905}, {\"x\": \"Dominica\", \"y\": 4132}, {\"x\": \"Virgin Islands, U.s.\", \"y\": 4017}, {\"x\": \"Jamaica\", \"y\": 3663}, {\"x\": \"Niue\", \"y\": 3495}, {\"x\": \"Panama\", \"y\": 3345}, {\"x\": \"Montenegro\", \"y\": 3104}, {\"x\": \"Congo, the Democratic Republic of the\", \"y\": 2689}, {\"x\": \"Lao People's Democratic Republic\", \"y\": 2502}, {\"x\": \"Lebanon\", \"y\": 2308}, {\"x\": \"United Arab Emirates\", \"y\": 2166}, {\"x\": \"Christmas Island\", \"y\": 1671}, {\"x\": \"Albania\", \"y\": 1037}, {\"x\": \"Falkland Islands (Malvinas)\", \"y\": 986}, {\"x\": \"Honduras\", \"y\": 649}, {\"x\": \"British Indian Ocean Territory\", \"y\": 424}, {\"x\": \"Reunion\", \"y\": 352}, {\"x\": \"Chad\", \"y\": 175}]}, {\"format\": {\"feature\": \"world-countries\", \"type\": \"topojson\"}, \"name\": \"countries\", \"transform\": [{\"as\": \"value\", \"default\": \"noval\", \"key\": \"data.properties.name\", \"type\": \"zip\", \"with\": \"table\", \"withKey\": \"data.x\"}, {\"test\": \"d.path!='noval' && d.value!='noval'\", \"type\": \"filter\"}, {\"projection\": \"winkel3\", \"scale\": 500, \"translate\": [480, 250], \"type\": \"geopath\", \"value\": \"data\"}], \"url\": \"../data/world-countries.topo.json\"}, {\"format\": {\"feature\": \"world-countries\", \"type\": \"topojson\"}, \"name\": \"countries_outline\", \"transform\": [{\"projection\": \"winkel3\", \"scale\": 500, \"translate\": [480, 250], \"type\": \"geopath\", \"value\": \"data\"}], \"url\": \"../data/world-countries.topo.json\"}], \"height\": 500, \"legends\": [{\"fill\": \"color\", \"offset\": 0, \"properties\": {\"labels\": {\"fontSize\": {\"value\": 30}}, \"title\": {\"fontSize\": {\"value\": 30}}}, \"title\": \"Group 0\"}], \"marks\": [{\"from\": {\"data\": \"countries\"}, \"properties\": {\"enter\": {\"path\": {\"field\": \"path\"}, \"stroke\": {\"value\": \"#000000\"}}, \"update\": {\"fill\": {\"field\": \"value.data.y\", \"scale\": \"color\"}}}, \"type\": \"path\"}, {\"from\": {\"data\": \"countries_outline\"}, \"properties\": {\"enter\": {\"path\": {\"field\": \"path\"}, \"stroke\": {\"value\": \"#000\"}}}, \"type\": \"path\"}], \"padding\": \"auto\", \"scales\": [{\"domain\": [1, 22025423], \"name\": \"color\", \"range\": [\"#e1edea\", \"#e0ece9\", \"#dfebe8\", \"#deeae7\", \"#dde9e6\", \"#dce8e5\", \"#dbe7e4\", \"#dae6e3\", \"#d9e5e2\", \"#d8e4e1\", \"#d7e3e0\", \"#d6e2df\", \"#d5e1de\", \"#d4e0dd\", \"#d3dfdc\", \"#d2dedb\", \"#d1ddda\", \"#d0dcd9\", \"#cfdbd8\", \"#cedad7\", \"#cdd9d6\", \"#ccd8d5\", \"#cbd7d4\", \"#cad6d3\", \"#c9d5d2\", \"#c8d4d1\", \"#c7d3d0\", \"#c6d2cf\", \"#c5d1ce\", \"#c4d0cd\", \"#c3cfcc\", \"#c2cecb\", \"#c1cdca\", \"#c0ccc9\", \"#bfcbc8\", \"#becac7\", \"#bdc9c6\", \"#bcc8c5\", \"#bbc7c4\", \"#bac6c3\", \"#b9c5c2\", \"#b8c4c1\", \"#b7c3c0\", \"#b6c2bf\", \"#b5c1be\", \"#b4c0bd\", \"#b3bfbc\", \"#b2bebb\", \"#b1bdba\", \"#b0bcb9\", \"#afbbb8\", \"#aebab7\", \"#adb9b6\", \"#acb8b5\", \"#abb7b4\", \"#aab6b3\", \"#a9b5b2\", \"#a8b4b1\", \"#a7b3b0\", \"#a6b2af\", \"#a5b1ae\", \"#a4b0ad\", \"#a3afac\", \"#a2aeab\", \"#a1adaa\", \"#a0aca9\", \"#9faba8\", \"#9eaaa7\", \"#9da9a6\", \"#9ca8a5\", \"#9ba7a4\", \"#9aa6a3\", \"#99a5a2\", \"#98a4a1\", \"#97a3a0\", \"#96a29f\", \"#95a19e\", \"#94a09d\", \"#939f9c\", \"#929e9b\", \"#919d9a\", \"#909c99\", \"#8f9b98\", \"#8e9a97\", \"#8d9996\", \"#8c9895\", \"#8b9794\", \"#8a9693\", \"#899592\", \"#889491\", \"#879390\", \"#86928f\", \"#85918e\", \"#84908d\", \"#838f8c\", \"#828e8b\", \"#818d8a\", \"#808c89\", \"#7f8b88\", \"#7e8a87\", \"#7d8986\", \"#7c8885\", \"#7b8784\", \"#7a8683\", \"#798582\", \"#788481\", \"#778380\", \"#76827f\", \"#75817e\", \"#74807d\", \"#737f7c\", \"#727e7b\", \"#717d7a\", \"#707c79\", \"#6f7b78\", \"#6e7a77\", \"#6d7976\", \"#6c7875\", \"#6b7774\", \"#6a7673\", \"#697572\", \"#687471\", \"#677370\", \"#66726f\", \"#65716e\", \"#64706d\", \"#636f6c\", \"#626e6b\", \"#616d6a\", \"#606c69\", \"#5f6b68\", \"#5e6a67\", \"#5d6966\", \"#5c6865\", \"#5b6764\", \"#5a6663\", \"#596562\", \"#586461\", \"#576360\", \"#56625f\", \"#55615e\", \"#54605d\", \"#535f5c\", \"#525e5b\", \"#515d5a\", \"#505c59\", \"#4f5b58\", \"#4e5a57\", \"#4d5956\", \"#4c5855\", \"#4b5754\", \"#4a5653\", \"#495552\", \"#485451\", \"#475350\", \"#46524f\", \"#45514e\", \"#44504d\", \"#434f4c\", \"#424e4b\", \"#414d4a\", \"#404c49\", \"#3f4b48\", \"#3e4a47\", \"#3d4946\", \"#3c4845\", \"#3b4744\", \"#3a4643\", \"#394542\", \"#384441\", \"#374340\", \"#36423f\", \"#35413e\", \"#34403d\", \"#333f3c\", \"#323e3b\", \"#313d3a\", \"#303c39\", \"#2f3b38\", \"#2e3a37\", \"#2d3936\", \"#2c3835\", \"#2b3734\", \"#2a3633\", \"#293532\", \"#283431\", \"#273330\", \"#26322f\", \"#25312e\", \"#24302d\", \"#232f2c\", \"#222e2b\", \"#212d2a\", \"#202c29\", \"#1f2b28\", \"#1e2a27\", \"#1d2926\", \"#1c2825\", \"#1b2724\", \"#1a2623\"], \"type\": \"quantize\"}], \"width\": 960}, function(chart) {\n",
       "         chart({el: \"#vis2e843d9a44f24c81b8e32d9c3874ec35\"}).update();\n",
       "       });\n",
       "     };\n",
       "     _do_plot();\n",
       "   })();\n",
       "</script>\n",
       "<style>.vega canvas {width: 100%;}</style>\n",
       "        "
      ],
      "text/plain": [
       "<IPython.core.display.HTML object>"
      ]
     },
     "metadata": {},
     "output_type": "display_data"
    },
    {
     "data": {
      "text/html": [
       "<div id=\"visbad377d2040d4cf7a78ef6cd9a291838\"></div>\n",
       "<script>\n",
       "   ( function() {\n",
       "     var _do_plot = function() {\n",
       "       if (typeof vg === 'undefined') {\n",
       "         window.addEventListener('vincent_libs_loaded', _do_plot)\n",
       "         return;\n",
       "       }\n",
       "       vg.parse.spec({\"axes\": [], \"data\": [{\"name\": \"table\", \"values\": [{\"x\": \"United States\", \"y\": 412792}, {\"x\": \"Germany\", \"y\": 412497}, {\"x\": \"Finland\", \"y\": 213584}, {\"x\": \"Poland\", \"y\": 213254}, {\"x\": \"United Kingdom\", \"y\": 189818}, {\"x\": \"Sweden\", \"y\": 148010}, {\"x\": \"Russian Federation\", \"y\": 141455}, {\"x\": \"Brazil\", \"y\": 132311}, {\"x\": \"Norway\", \"y\": 105379}, {\"x\": \"Netherlands\", \"y\": 88790}, {\"x\": \"Bulgaria\", \"y\": 87858}, {\"x\": \"Spain\", \"y\": 66850}, {\"x\": \"Portugal\", \"y\": 65539}, {\"x\": \"Croatia\", \"y\": 63857}, {\"x\": \"Canada\", \"y\": 63545}, {\"x\": \"France\", \"y\": 56491}, {\"x\": \"Australia\", \"y\": 52428}, {\"x\": \"Czech Republic\", \"y\": 50609}, {\"x\": \"Italy\", \"y\": 46229}, {\"x\": \"Turkey\", \"y\": 44030}, {\"x\": \"Ukraine\", \"y\": 40870}, {\"x\": \"Austria\", \"y\": 33782}, {\"x\": \"Belgium\", \"y\": 28316}, {\"x\": \"New Zealand\", \"y\": 27649}, {\"x\": \"Romania\", \"y\": 26868}, {\"x\": \"Japan\", \"y\": 23792}, {\"x\": \"Latvia\", \"y\": 23462}, {\"x\": \"Switzerland\", \"y\": 22570}, {\"x\": \"Mexico\", \"y\": 20397}, {\"x\": \"Slovakia\", \"y\": 19437}, {\"x\": \"Lithuania\", \"y\": 18980}, {\"x\": \"Serbia\", \"y\": 17833}, {\"x\": \"Israel\", \"y\": 17520}, {\"x\": \"Chile\", \"y\": 16761}, {\"x\": \"Hungary\", \"y\": 15223}, {\"x\": \"Argentina\", \"y\": 14211}, {\"x\": \"India\", \"y\": 13022}, {\"x\": \"Bangladesh\", \"y\": 11134}, {\"x\": \"Ireland\", \"y\": 10413}, {\"x\": \"Colombia\", \"y\": 9645}, {\"x\": \"Denmark\", \"y\": 8066}, {\"x\": \"Belarus\", \"y\": 7501}, {\"x\": \"Slovenia\", \"y\": 7477}, {\"x\": \"Malaysia\", \"y\": 7063}, {\"x\": \"Greece\", \"y\": 7043}, {\"x\": \"Zimbabwe\", \"y\": 6613}, {\"x\": \"Estonia\", \"y\": 6203}, {\"x\": \"Antarctica\", \"y\": 5815}, {\"x\": \"Bosnia and Herzegovina\", \"y\": 3796}, {\"x\": \"Iran, Islamic Republic of\", \"y\": 3423}, {\"x\": \"Georgia\", \"y\": 3332}, {\"x\": \"Fiji\", \"y\": 3309}, {\"x\": \"South Africa\", \"y\": 2948}, {\"x\": \"Puerto Rico\", \"y\": 2824}, {\"x\": \"Peru\", \"y\": 2718}, {\"x\": \"Venezuela\", \"y\": 2498}, {\"x\": \"Virgin Islands, British\", \"y\": 1910}, {\"x\": \"Moldova\", \"y\": 1806}, {\"x\": \"Macedonia\", \"y\": 1536}, {\"x\": \"Hong Kong\", \"y\": 1495}, {\"x\": \"Tunisia\", \"y\": 1472}, {\"x\": \"Viet Nam\", \"y\": 1418}, {\"x\": \"Singapore\", \"y\": 1398}, {\"x\": \"China\", \"y\": 1215}, {\"x\": \"Uruguay\", \"y\": 1134}, {\"x\": \"Syrian Arab Republic\", \"y\": 1048}, {\"x\": \"Pakistan\", \"y\": 983}, {\"x\": \"Philippines\", \"y\": 922}, {\"x\": \"Qatar\", \"y\": 718}, {\"x\": \"Togo\", \"y\": 700}, {\"x\": \"Guatemala\", \"y\": 594}, {\"x\": \"Saudi Arabia\", \"y\": 579}, {\"x\": \"Andorra\", \"y\": 570}, {\"x\": \"Algeria\", \"y\": 543}, {\"x\": \"Indonesia\", \"y\": 476}, {\"x\": \"Thailand\", \"y\": 423}, {\"x\": \"Iceland\", \"y\": 420}, {\"x\": \"Azerbaijan\", \"y\": 393}, {\"x\": \"Northern Mariana Islands\", \"y\": 388}, {\"x\": \"Ecuador\", \"y\": 370}, {\"x\": \"Paraguay\", \"y\": 367}, {\"x\": \"Egypt\", \"y\": 356}, {\"x\": \"Taiwan\", \"y\": 313}, {\"x\": \"Nepal\", \"y\": 312}, {\"x\": \"Costa Rica\", \"y\": 311}, {\"x\": \"French Southern Territories\", \"y\": 267}, {\"x\": \"Malta\", \"y\": 258}, {\"x\": \"Uganda\", \"y\": 200}, {\"x\": \"Greenland\", \"y\": 170}, {\"x\": \"Djibouti\", \"y\": 167}, {\"x\": \"United States Minor Outlying Islands\", \"y\": 155}, {\"x\": \"Cocos (Keeling) Islands\", \"y\": 150}, {\"x\": \"Somalia\", \"y\": 145}, {\"x\": \"Luxembourg\", \"y\": 139}, {\"x\": \"Burkina Faso\", \"y\": 122}, {\"x\": \"Tanzania, United Republic of\", \"y\": 104}, {\"x\": \"Wallis and Futuna\", \"y\": 98}, {\"x\": \"Korea, Republic of\", \"y\": 92}, {\"x\": \"Lebanon\", \"y\": 81}, {\"x\": \"El Salvador\", \"y\": 81}, {\"x\": \"Virgin Islands, U.s.\", \"y\": 74}, {\"x\": \"Cyprus\", \"y\": 67}, {\"x\": \"Panama\", \"y\": 56}, {\"x\": \"Afghanistan\", \"y\": 45}, {\"x\": \"Dominican Republic\", \"y\": 43}, {\"x\": \"Kazakhstan\", \"y\": 3}]}, {\"format\": {\"feature\": \"world-countries\", \"type\": \"topojson\"}, \"name\": \"countries\", \"transform\": [{\"as\": \"value\", \"default\": \"noval\", \"key\": \"data.properties.name\", \"type\": \"zip\", \"with\": \"table\", \"withKey\": \"data.x\"}, {\"test\": \"d.path!='noval' && d.value!='noval'\", \"type\": \"filter\"}, {\"projection\": \"winkel3\", \"scale\": 500, \"translate\": [480, 250], \"type\": \"geopath\", \"value\": \"data\"}], \"url\": \"../data/world-countries.topo.json\"}, {\"format\": {\"feature\": \"world-countries\", \"type\": \"topojson\"}, \"name\": \"countries_outline\", \"transform\": [{\"projection\": \"winkel3\", \"scale\": 500, \"translate\": [480, 250], \"type\": \"geopath\", \"value\": \"data\"}], \"url\": \"../data/world-countries.topo.json\"}], \"height\": 500, \"legends\": [{\"fill\": \"color\", \"offset\": 0, \"properties\": {\"labels\": {\"fontSize\": {\"value\": 30}}, \"title\": {\"fontSize\": {\"value\": 30}}}, \"title\": \"Group 1\"}], \"marks\": [{\"from\": {\"data\": \"countries\"}, \"properties\": {\"enter\": {\"path\": {\"field\": \"path\"}, \"stroke\": {\"value\": \"#000000\"}}, \"update\": {\"fill\": {\"field\": \"value.data.y\", \"scale\": \"color\"}}}, \"type\": \"path\"}, {\"from\": {\"data\": \"countries_outline\"}, \"properties\": {\"enter\": {\"path\": {\"field\": \"path\"}, \"stroke\": {\"value\": \"#000\"}}}, \"type\": \"path\"}], \"padding\": \"auto\", \"scales\": [{\"domain\": [1, 412792], \"name\": \"color\", \"range\": [\"#e1edea\", \"#e0ece9\", \"#dfebe8\", \"#deeae7\", \"#dde9e6\", \"#dce8e5\", \"#dbe7e4\", \"#dae6e3\", \"#d9e5e2\", \"#d8e4e1\", \"#d7e3e0\", \"#d6e2df\", \"#d5e1de\", \"#d4e0dd\", \"#d3dfdc\", \"#d2dedb\", \"#d1ddda\", \"#d0dcd9\", \"#cfdbd8\", \"#cedad7\", \"#cdd9d6\", \"#ccd8d5\", \"#cbd7d4\", \"#cad6d3\", \"#c9d5d2\", \"#c8d4d1\", \"#c7d3d0\", \"#c6d2cf\", \"#c5d1ce\", \"#c4d0cd\", \"#c3cfcc\", \"#c2cecb\", \"#c1cdca\", \"#c0ccc9\", \"#bfcbc8\", \"#becac7\", \"#bdc9c6\", \"#bcc8c5\", \"#bbc7c4\", \"#bac6c3\", \"#b9c5c2\", \"#b8c4c1\", \"#b7c3c0\", \"#b6c2bf\", \"#b5c1be\", \"#b4c0bd\", \"#b3bfbc\", \"#b2bebb\", \"#b1bdba\", \"#b0bcb9\", \"#afbbb8\", \"#aebab7\", \"#adb9b6\", \"#acb8b5\", \"#abb7b4\", \"#aab6b3\", \"#a9b5b2\", \"#a8b4b1\", \"#a7b3b0\", \"#a6b2af\", \"#a5b1ae\", \"#a4b0ad\", \"#a3afac\", \"#a2aeab\", \"#a1adaa\", \"#a0aca9\", \"#9faba8\", \"#9eaaa7\", \"#9da9a6\", \"#9ca8a5\", \"#9ba7a4\", \"#9aa6a3\", \"#99a5a2\", \"#98a4a1\", \"#97a3a0\", \"#96a29f\", \"#95a19e\", \"#94a09d\", \"#939f9c\", \"#929e9b\", \"#919d9a\", \"#909c99\", \"#8f9b98\", \"#8e9a97\", \"#8d9996\", \"#8c9895\", \"#8b9794\", \"#8a9693\", \"#899592\", \"#889491\", \"#879390\", \"#86928f\", \"#85918e\", \"#84908d\", \"#838f8c\", \"#828e8b\", \"#818d8a\", \"#808c89\", \"#7f8b88\", \"#7e8a87\", \"#7d8986\", \"#7c8885\", \"#7b8784\", \"#7a8683\", \"#798582\", \"#788481\", \"#778380\", \"#76827f\", \"#75817e\", \"#74807d\", \"#737f7c\", \"#727e7b\", \"#717d7a\", \"#707c79\", \"#6f7b78\", \"#6e7a77\", \"#6d7976\", \"#6c7875\", \"#6b7774\", \"#6a7673\", \"#697572\", \"#687471\", \"#677370\", \"#66726f\", \"#65716e\", \"#64706d\", \"#636f6c\", \"#626e6b\", \"#616d6a\", \"#606c69\", \"#5f6b68\", \"#5e6a67\", \"#5d6966\", \"#5c6865\", \"#5b6764\", \"#5a6663\", \"#596562\", \"#586461\", \"#576360\", \"#56625f\", \"#55615e\", \"#54605d\", \"#535f5c\", \"#525e5b\", \"#515d5a\", \"#505c59\", \"#4f5b58\", \"#4e5a57\", \"#4d5956\", \"#4c5855\", \"#4b5754\", \"#4a5653\", \"#495552\", \"#485451\", \"#475350\", \"#46524f\", \"#45514e\", \"#44504d\", \"#434f4c\", \"#424e4b\", \"#414d4a\", \"#404c49\", \"#3f4b48\", \"#3e4a47\", \"#3d4946\", \"#3c4845\", \"#3b4744\", \"#3a4643\", \"#394542\", \"#384441\", \"#374340\", \"#36423f\", \"#35413e\", \"#34403d\", \"#333f3c\", \"#323e3b\", \"#313d3a\", \"#303c39\", \"#2f3b38\", \"#2e3a37\", \"#2d3936\", \"#2c3835\", \"#2b3734\", \"#2a3633\", \"#293532\", \"#283431\", \"#273330\", \"#26322f\", \"#25312e\", \"#24302d\", \"#232f2c\", \"#222e2b\", \"#212d2a\", \"#202c29\", \"#1f2b28\", \"#1e2a27\", \"#1d2926\", \"#1c2825\", \"#1b2724\", \"#1a2623\"], \"type\": \"quantize\"}], \"width\": 960}, function(chart) {\n",
       "         chart({el: \"#visbad377d2040d4cf7a78ef6cd9a291838\"}).update();\n",
       "       });\n",
       "     };\n",
       "     _do_plot();\n",
       "   })();\n",
       "</script>\n",
       "<style>.vega canvas {width: 100%;}</style>\n",
       "        "
      ],
      "text/plain": [
       "<IPython.core.display.HTML object>"
      ]
     },
     "metadata": {},
     "output_type": "display_data"
    },
    {
     "data": {
      "text/html": [
       "<div id=\"vis90b980641de8450898a6443f3b7f3770\"></div>\n",
       "<script>\n",
       "   ( function() {\n",
       "     var _do_plot = function() {\n",
       "       if (typeof vg === 'undefined') {\n",
       "         window.addEventListener('vincent_libs_loaded', _do_plot)\n",
       "         return;\n",
       "       }\n",
       "       vg.parse.spec({\"axes\": [], \"data\": [{\"name\": \"table\", \"values\": [{\"x\": \"United States\", \"y\": 704771}, {\"x\": \"United Kingdom\", \"y\": 186617}, {\"x\": \"Brazil\", \"y\": 149112}, {\"x\": \"Poland\", \"y\": 133928}, {\"x\": \"Sweden\", \"y\": 84995}, {\"x\": \"Canada\", \"y\": 76562}, {\"x\": \"Germany\", \"y\": 73346}, {\"x\": \"Russian Federation\", \"y\": 70218}, {\"x\": \"Netherlands\", \"y\": 65689}, {\"x\": \"Japan\", \"y\": 65121}, {\"x\": \"Australia\", \"y\": 62452}, {\"x\": \"Finland\", \"y\": 55057}, {\"x\": \"Italy\", \"y\": 44124}, {\"x\": \"France\", \"y\": 44019}, {\"x\": \"Spain\", \"y\": 39927}, {\"x\": \"Norway\", \"y\": 38213}, {\"x\": \"Belgium\", \"y\": 34688}, {\"x\": \"Turkey\", \"y\": 29282}, {\"x\": \"New Zealand\", \"y\": 29048}, {\"x\": \"Denmark\", \"y\": 27168}, {\"x\": \"Ireland\", \"y\": 26518}, {\"x\": \"Chile\", \"y\": 25328}, {\"x\": \"Mexico\", \"y\": 24273}, {\"x\": \"Romania\", \"y\": 22636}, {\"x\": \"Israel\", \"y\": 20682}, {\"x\": \"Portugal\", \"y\": 20191}, {\"x\": \"India\", \"y\": 19261}, {\"x\": \"Georgia\", \"y\": 15390}, {\"x\": \"Austria\", \"y\": 14876}, {\"x\": \"Czech Republic\", \"y\": 14554}, {\"x\": \"Peru\", \"y\": 14077}, {\"x\": \"Bulgaria\", \"y\": 13164}, {\"x\": \"Switzerland\", \"y\": 12556}, {\"x\": \"Croatia\", \"y\": 12513}, {\"x\": \"Colombia\", \"y\": 12102}, {\"x\": \"Serbia\", \"y\": 10668}, {\"x\": \"Ukraine\", \"y\": 10435}, {\"x\": \"Argentina\", \"y\": 9263}, {\"x\": \"Latvia\", \"y\": 9098}, {\"x\": \"Belarus\", \"y\": 6705}, {\"x\": \"Lithuania\", \"y\": 6514}, {\"x\": \"Luxembourg\", \"y\": 6202}, {\"x\": \"Slovakia\", \"y\": 6134}, {\"x\": \"China\", \"y\": 5765}, {\"x\": \"Uruguay\", \"y\": 5552}, {\"x\": \"Iran, Islamic Republic of\", \"y\": 5399}, {\"x\": \"Venezuela\", \"y\": 5248}, {\"x\": \"French Southern Territories\", \"y\": 4552}, {\"x\": \"Hungary\", \"y\": 4333}, {\"x\": \"Singapore\", \"y\": 4175}, {\"x\": \"Slovenia\", \"y\": 3924}, {\"x\": \"Antarctica\", \"y\": 3752}, {\"x\": \"Greece\", \"y\": 3745}, {\"x\": \"Iceland\", \"y\": 2428}, {\"x\": \"Syrian Arab Republic\", \"y\": 2393}, {\"x\": \"Virgin Islands, British\", \"y\": 2378}, {\"x\": \"South Africa\", \"y\": 2267}, {\"x\": \"Indonesia\", \"y\": 2065}, {\"x\": \"Taiwan\", \"y\": 1942}, {\"x\": \"Philippines\", \"y\": 1852}, {\"x\": \"Korea, Republic of\", \"y\": 1695}, {\"x\": \"Estonia\", \"y\": 1670}, {\"x\": \"Northern Mariana Islands\", \"y\": 1607}, {\"x\": \"Wallis and Futuna\", \"y\": 1530}, {\"x\": \"Egypt\", \"y\": 1505}, {\"x\": \"Ghana\", \"y\": 1493}, {\"x\": \"Costa Rica\", \"y\": 1371}, {\"x\": \"Malaysia\", \"y\": 1339}, {\"x\": \"Thailand\", \"y\": 1291}, {\"x\": \"Greenland\", \"y\": 1144}, {\"x\": \"South Georgia and the South Sandwich Islands\", \"y\": 952}, {\"x\": \"Azerbaijan\", \"y\": 910}, {\"x\": \"Nauru\", \"y\": 851}, {\"x\": \"Togo\", \"y\": 765}, {\"x\": \"Kazakhstan\", \"y\": 757}, {\"x\": \"Guatemala\", \"y\": 707}, {\"x\": \"Ecuador\", \"y\": 645}, {\"x\": \"Bangladesh\", \"y\": 610}, {\"x\": \"Pakistan\", \"y\": 571}, {\"x\": \"Uganda\", \"y\": 570}, {\"x\": \"Cook Islands\", \"y\": 551}, {\"x\": \"Hong Kong\", \"y\": 467}, {\"x\": \"Djibouti\", \"y\": 439}, {\"x\": \"El Salvador\", \"y\": 430}, {\"x\": \"Moldova\", \"y\": 393}, {\"x\": \"United States Minor Outlying Islands\", \"y\": 388}, {\"x\": \"Andorra\", \"y\": 383}, {\"x\": \"Puerto Rico\", \"y\": 377}, {\"x\": \"Heard Island and Mcdonald Islands\", \"y\": 352}, {\"x\": \"Malta\", \"y\": 337}, {\"x\": \"Libyan Arab Jamahiriya\", \"y\": 333}, {\"x\": \"Burkina Faso\", \"y\": 307}, {\"x\": \"Dominican Republic\", \"y\": 260}, {\"x\": \"Cocos (Keeling) Islands\", \"y\": 244}, {\"x\": \"Cyprus\", \"y\": 239}, {\"x\": \"Qatar\", \"y\": 233}, {\"x\": \"Macedonia\", \"y\": 189}, {\"x\": \"Guadeloupe\", \"y\": 175}, {\"x\": \"Bosnia and Herzegovina\", \"y\": 139}, {\"x\": \"Lebanon\", \"y\": 128}, {\"x\": \"Tunisia\", \"y\": 126}, {\"x\": \"Antigua and Barbuda\", \"y\": 113}, {\"x\": \"Somalia\", \"y\": 102}, {\"x\": \"Barbados\", \"y\": 83}, {\"x\": \"Panama\", \"y\": 79}, {\"x\": \"Christmas Island\", \"y\": 76}, {\"x\": \"Papua New Guinea\", \"y\": 69}, {\"x\": \"Fiji\", \"y\": 63}, {\"x\": \"Pitcairn\", \"y\": 61}, {\"x\": \"Falkland Islands (Malvinas)\", \"y\": 32}, {\"x\": \"Bolivia\", \"y\": 32}, {\"x\": \"Honduras\", \"y\": 22}, {\"x\": \"Paraguay\", \"y\": 15}, {\"x\": \"Albania\", \"y\": 11}]}, {\"format\": {\"feature\": \"world-countries\", \"type\": \"topojson\"}, \"name\": \"countries\", \"transform\": [{\"as\": \"value\", \"default\": \"noval\", \"key\": \"data.properties.name\", \"type\": \"zip\", \"with\": \"table\", \"withKey\": \"data.x\"}, {\"test\": \"d.path!='noval' && d.value!='noval'\", \"type\": \"filter\"}, {\"projection\": \"winkel3\", \"scale\": 500, \"translate\": [480, 250], \"type\": \"geopath\", \"value\": \"data\"}], \"url\": \"../data/world-countries.topo.json\"}, {\"format\": {\"feature\": \"world-countries\", \"type\": \"topojson\"}, \"name\": \"countries_outline\", \"transform\": [{\"projection\": \"winkel3\", \"scale\": 500, \"translate\": [480, 250], \"type\": \"geopath\", \"value\": \"data\"}], \"url\": \"../data/world-countries.topo.json\"}], \"height\": 500, \"legends\": [{\"fill\": \"color\", \"offset\": 0, \"properties\": {\"labels\": {\"fontSize\": {\"value\": 30}}, \"title\": {\"fontSize\": {\"value\": 30}}}, \"title\": \"Group 2\"}], \"marks\": [{\"from\": {\"data\": \"countries\"}, \"properties\": {\"enter\": {\"path\": {\"field\": \"path\"}, \"stroke\": {\"value\": \"#000000\"}}, \"update\": {\"fill\": {\"field\": \"value.data.y\", \"scale\": \"color\"}}}, \"type\": \"path\"}, {\"from\": {\"data\": \"countries_outline\"}, \"properties\": {\"enter\": {\"path\": {\"field\": \"path\"}, \"stroke\": {\"value\": \"#000\"}}}, \"type\": \"path\"}], \"padding\": \"auto\", \"scales\": [{\"domain\": [1, 704771], \"name\": \"color\", \"range\": [\"#e1edea\", \"#e0ece9\", \"#dfebe8\", \"#deeae7\", \"#dde9e6\", \"#dce8e5\", \"#dbe7e4\", \"#dae6e3\", \"#d9e5e2\", \"#d8e4e1\", \"#d7e3e0\", \"#d6e2df\", \"#d5e1de\", \"#d4e0dd\", \"#d3dfdc\", \"#d2dedb\", \"#d1ddda\", \"#d0dcd9\", \"#cfdbd8\", \"#cedad7\", \"#cdd9d6\", \"#ccd8d5\", \"#cbd7d4\", \"#cad6d3\", \"#c9d5d2\", \"#c8d4d1\", \"#c7d3d0\", \"#c6d2cf\", \"#c5d1ce\", \"#c4d0cd\", \"#c3cfcc\", \"#c2cecb\", \"#c1cdca\", \"#c0ccc9\", \"#bfcbc8\", \"#becac7\", \"#bdc9c6\", \"#bcc8c5\", \"#bbc7c4\", \"#bac6c3\", \"#b9c5c2\", \"#b8c4c1\", \"#b7c3c0\", \"#b6c2bf\", \"#b5c1be\", \"#b4c0bd\", \"#b3bfbc\", \"#b2bebb\", \"#b1bdba\", \"#b0bcb9\", \"#afbbb8\", \"#aebab7\", \"#adb9b6\", \"#acb8b5\", \"#abb7b4\", \"#aab6b3\", \"#a9b5b2\", \"#a8b4b1\", \"#a7b3b0\", \"#a6b2af\", \"#a5b1ae\", \"#a4b0ad\", \"#a3afac\", \"#a2aeab\", \"#a1adaa\", \"#a0aca9\", \"#9faba8\", \"#9eaaa7\", \"#9da9a6\", \"#9ca8a5\", \"#9ba7a4\", \"#9aa6a3\", \"#99a5a2\", \"#98a4a1\", \"#97a3a0\", \"#96a29f\", \"#95a19e\", \"#94a09d\", \"#939f9c\", \"#929e9b\", \"#919d9a\", \"#909c99\", \"#8f9b98\", \"#8e9a97\", \"#8d9996\", \"#8c9895\", \"#8b9794\", \"#8a9693\", \"#899592\", \"#889491\", \"#879390\", \"#86928f\", \"#85918e\", \"#84908d\", \"#838f8c\", \"#828e8b\", \"#818d8a\", \"#808c89\", \"#7f8b88\", \"#7e8a87\", \"#7d8986\", \"#7c8885\", \"#7b8784\", \"#7a8683\", \"#798582\", \"#788481\", \"#778380\", \"#76827f\", \"#75817e\", \"#74807d\", \"#737f7c\", \"#727e7b\", \"#717d7a\", \"#707c79\", \"#6f7b78\", \"#6e7a77\", \"#6d7976\", \"#6c7875\", \"#6b7774\", \"#6a7673\", \"#697572\", \"#687471\", \"#677370\", \"#66726f\", \"#65716e\", \"#64706d\", \"#636f6c\", \"#626e6b\", \"#616d6a\", \"#606c69\", \"#5f6b68\", \"#5e6a67\", \"#5d6966\", \"#5c6865\", \"#5b6764\", \"#5a6663\", \"#596562\", \"#586461\", \"#576360\", \"#56625f\", \"#55615e\", \"#54605d\", \"#535f5c\", \"#525e5b\", \"#515d5a\", \"#505c59\", \"#4f5b58\", \"#4e5a57\", \"#4d5956\", \"#4c5855\", \"#4b5754\", \"#4a5653\", \"#495552\", \"#485451\", \"#475350\", \"#46524f\", \"#45514e\", \"#44504d\", \"#434f4c\", \"#424e4b\", \"#414d4a\", \"#404c49\", \"#3f4b48\", \"#3e4a47\", \"#3d4946\", \"#3c4845\", \"#3b4744\", \"#3a4643\", \"#394542\", \"#384441\", \"#374340\", \"#36423f\", \"#35413e\", \"#34403d\", \"#333f3c\", \"#323e3b\", \"#313d3a\", \"#303c39\", \"#2f3b38\", \"#2e3a37\", \"#2d3936\", \"#2c3835\", \"#2b3734\", \"#2a3633\", \"#293532\", \"#283431\", \"#273330\", \"#26322f\", \"#25312e\", \"#24302d\", \"#232f2c\", \"#222e2b\", \"#212d2a\", \"#202c29\", \"#1f2b28\", \"#1e2a27\", \"#1d2926\", \"#1c2825\", \"#1b2724\", \"#1a2623\"], \"type\": \"quantize\"}], \"width\": 960}, function(chart) {\n",
       "         chart({el: \"#vis90b980641de8450898a6443f3b7f3770\"}).update();\n",
       "       });\n",
       "     };\n",
       "     _do_plot();\n",
       "   })();\n",
       "</script>\n",
       "<style>.vega canvas {width: 100%;}</style>\n",
       "        "
      ],
      "text/plain": [
       "<IPython.core.display.HTML object>"
      ]
     },
     "metadata": {},
     "output_type": "display_data"
    }
   ],
   "source": [
    "for i in np.unique(values):\n",
    "    map_data = data.groupby(['group']).get_group((i))[['country','plays']]\n",
    "\n",
    "    x= map_data.groupby('country').sum().sort('plays', ascending=False)\n",
    "    x.reset_index(level=0, inplace=True)\n",
    "    max_count = x['plays'].max()\n",
    "    plot_map(x, title=\"Group %d\"%i)\n",
    "#x['country'] = x.country.apply(lambda x: 'United States of America' if x == 'United States' else x)"
   ]
  },
  {
   "cell_type": "code",
   "execution_count": 565,
   "metadata": {
    "collapsed": false
   },
   "outputs": [],
   "source": [
    "d = data.groupby(['artist_name', 'country']).aggregate({'plays': [np.sum]}).sort([ ('plays','sum') ], ascending=False)"
   ]
  },
  {
   "cell_type": "code",
   "execution_count": 566,
   "metadata": {
    "collapsed": false
   },
   "outputs": [
    {
     "data": {
      "text/plain": [
       "(326503, 1)"
      ]
     },
     "execution_count": 566,
     "metadata": {},
     "output_type": "execute_result"
    }
   ],
   "source": [
    "d['plays']['sum'].max(),d['plays']['sum'].min()"
   ]
  },
  {
   "cell_type": "code",
   "execution_count": 567,
   "metadata": {
    "collapsed": false
   },
   "outputs": [],
   "source": [
    "d.reset_index(inplace=True)"
   ]
  },
  {
   "cell_type": "code",
   "execution_count": 568,
   "metadata": {
    "collapsed": false
   },
   "outputs": [],
   "source": [
    "artist = 'pink floyd'\n",
    "artist_popularity = d[d['artist_name']==artist]"
   ]
  },
  {
   "cell_type": "code",
   "execution_count": 569,
   "metadata": {
    "collapsed": false
   },
   "outputs": [],
   "source": [
    "artist_popularity.columns = reversed(artist_popularity.columns.levels[0])"
   ]
  },
  {
   "cell_type": "code",
   "execution_count": 570,
   "metadata": {
    "collapsed": false,
    "scrolled": false
   },
   "outputs": [
    {
     "data": {
      "text/html": [
       "<div id=\"vis0b5e65f15ec644daaabe70fa03740cf6\"></div>\n",
       "<script>\n",
       "   ( function() {\n",
       "     var _do_plot = function() {\n",
       "       if (typeof vg === 'undefined') {\n",
       "         window.addEventListener('vincent_libs_loaded', _do_plot)\n",
       "         return;\n",
       "       }\n",
       "       vg.parse.spec({\"axes\": [], \"data\": [{\"name\": \"table\", \"values\": [{\"x\": \"United States\", \"y\": 79722}, {\"x\": \"Poland\", \"y\": 30695}, {\"x\": \"Brazil\", \"y\": 26453}, {\"x\": \"United Kingdom\", \"y\": 22778}, {\"x\": \"Russian Federation\", \"y\": 20527}, {\"x\": \"Finland\", \"y\": 17309}, {\"x\": \"Sweden\", \"y\": 14514}, {\"x\": \"Canada\", \"y\": 13508}, {\"x\": \"Italy\", \"y\": 13280}, {\"x\": \"Georgia\", \"y\": 12805}, {\"x\": \"Netherlands\", \"y\": 12583}, {\"x\": \"Germany\", \"y\": 12275}, {\"x\": \"Turkey\", \"y\": 11444}, {\"x\": \"Norway\", \"y\": 10147}, {\"x\": \"Romania\", \"y\": 9783}, {\"x\": \"Australia\", \"y\": 9302}, {\"x\": \"France\", \"y\": 8793}, {\"x\": \"Belgium\", \"y\": 7727}, {\"x\": \"New Zealand\", \"y\": 6852}, {\"x\": \"Mexico\", \"y\": 6602}, {\"x\": \"Spain\", \"y\": 4918}, {\"x\": \"Bulgaria\", \"y\": 4491}, {\"x\": \"Colombia\", \"y\": 4079}, {\"x\": \"Ukraine\", \"y\": 4048}, {\"x\": \"India\", \"y\": 3993}, {\"x\": \"Czech Republic\", \"y\": 3820}, {\"x\": \"Lithuania\", \"y\": 3766}, {\"x\": \"Portugal\", \"y\": 3239}, {\"x\": \"Iran, Islamic Republic of\", \"y\": 3224}, {\"x\": \"Belarus\", \"y\": 3089}, {\"x\": \"Israel\", \"y\": 2973}, {\"x\": \"Switzerland\", \"y\": 2241}, {\"x\": \"Denmark\", \"y\": 2132}, {\"x\": \"Argentina\", \"y\": 1909}, {\"x\": \"Chile\", \"y\": 1799}, {\"x\": \"Venezuela\", \"y\": 1715}, {\"x\": \"Austria\", \"y\": 1622}, {\"x\": \"Ireland\", \"y\": 1618}, {\"x\": \"Syrian Arab Republic\", \"y\": 1359}, {\"x\": \"Croatia\", \"y\": 1278}, {\"x\": \"Japan\", \"y\": 1207}, {\"x\": \"Taiwan\", \"y\": 1077}, {\"x\": \"Slovenia\", \"y\": 1018}, {\"x\": \"Slovakia\", \"y\": 1014}, {\"x\": \"Serbia\", \"y\": 957}, {\"x\": \"Estonia\", \"y\": 924}, {\"x\": \"Latvia\", \"y\": 886}, {\"x\": \"Costa Rica\", \"y\": 821}, {\"x\": \"Togo\", \"y\": 765}, {\"x\": \"Hungary\", \"y\": 558}, {\"x\": \"Antarctica\", \"y\": 551}, {\"x\": \"Greenland\", \"y\": 475}, {\"x\": \"Egypt\", \"y\": 464}, {\"x\": \"Thailand\", \"y\": 464}, {\"x\": \"Burkina Faso\", \"y\": 307}, {\"x\": \"Virgin Islands, British\", \"y\": 301}, {\"x\": \"Greece\", \"y\": 288}, {\"x\": \"Peru\", \"y\": 240}, {\"x\": \"South Africa\", \"y\": 237}, {\"x\": \"Azerbaijan\", \"y\": 233}, {\"x\": \"China\", \"y\": 228}, {\"x\": \"Philippines\", \"y\": 198}, {\"x\": \"Andorra\", \"y\": 192}, {\"x\": \"Malaysia\", \"y\": 186}, {\"x\": \"Pakistan\", \"y\": 180}, {\"x\": \"Moldova\", \"y\": 178}, {\"x\": \"Cocos (Keeling) Islands\", \"y\": 169}, {\"x\": \"Wallis and Futuna\", \"y\": 126}, {\"x\": \"Singapore\", \"y\": 117}, {\"x\": \"Cyprus\", \"y\": 104}, {\"x\": \"Somalia\", \"y\": 102}, {\"x\": \"Iceland\", \"y\": 90}, {\"x\": \"Tunisia\", \"y\": 86}, {\"x\": \"El Salvador\", \"y\": 77}, {\"x\": \"Puerto Rico\", \"y\": 76}, {\"x\": \"Guatemala\", \"y\": 73}, {\"x\": \"Papua New Guinea\", \"y\": 69}, {\"x\": \"South Georgia and the South Sandwich Islands\", \"y\": 61}, {\"x\": \"Bangladesh\", \"y\": 59}, {\"x\": \"Panama\", \"y\": 45}, {\"x\": \"Christmas Island\", \"y\": 26}, {\"x\": \"Bosnia and Herzegovina\", \"y\": 14}, {\"x\": \"Lebanon\", \"y\": 12}]}, {\"format\": {\"feature\": \"world-countries\", \"type\": \"topojson\"}, \"name\": \"countries\", \"transform\": [{\"as\": \"value\", \"default\": \"noval\", \"key\": \"data.properties.name\", \"type\": \"zip\", \"with\": \"table\", \"withKey\": \"data.x\"}, {\"test\": \"d.path!='noval' && d.value!='noval'\", \"type\": \"filter\"}, {\"projection\": \"winkel3\", \"scale\": 500, \"translate\": [480, 250], \"type\": \"geopath\", \"value\": \"data\"}], \"url\": \"../data/world-countries.topo.json\"}, {\"format\": {\"feature\": \"world-countries\", \"type\": \"topojson\"}, \"name\": \"countries_outline\", \"transform\": [{\"projection\": \"winkel3\", \"scale\": 500, \"translate\": [480, 250], \"type\": \"geopath\", \"value\": \"data\"}], \"url\": \"../data/world-countries.topo.json\"}], \"height\": 500, \"legends\": [{\"fill\": \"color\", \"offset\": 0, \"properties\": {\"labels\": {\"fontSize\": {\"value\": 30}}, \"title\": {\"fontSize\": {\"value\": 30}}}, \"title\": \"Popularity of Pink Floyd\"}], \"marks\": [{\"from\": {\"data\": \"countries\"}, \"properties\": {\"enter\": {\"path\": {\"field\": \"path\"}, \"stroke\": {\"value\": \"#000000\"}}, \"update\": {\"fill\": {\"field\": \"value.data.y\", \"scale\": \"color\"}}}, \"type\": \"path\"}, {\"from\": {\"data\": \"countries_outline\"}, \"properties\": {\"enter\": {\"path\": {\"field\": \"path\"}, \"stroke\": {\"value\": \"#000\"}}}, \"type\": \"path\"}], \"padding\": \"auto\", \"scales\": [{\"domain\": [1, 79722], \"name\": \"color\", \"range\": [\"#e1edea\", \"#e0ece9\", \"#dfebe8\", \"#deeae7\", \"#dde9e6\", \"#dce8e5\", \"#dbe7e4\", \"#dae6e3\", \"#d9e5e2\", \"#d8e4e1\", \"#d7e3e0\", \"#d6e2df\", \"#d5e1de\", \"#d4e0dd\", \"#d3dfdc\", \"#d2dedb\", \"#d1ddda\", \"#d0dcd9\", \"#cfdbd8\", \"#cedad7\", \"#cdd9d6\", \"#ccd8d5\", \"#cbd7d4\", \"#cad6d3\", \"#c9d5d2\", \"#c8d4d1\", \"#c7d3d0\", \"#c6d2cf\", \"#c5d1ce\", \"#c4d0cd\", \"#c3cfcc\", \"#c2cecb\", \"#c1cdca\", \"#c0ccc9\", \"#bfcbc8\", \"#becac7\", \"#bdc9c6\", \"#bcc8c5\", \"#bbc7c4\", \"#bac6c3\", \"#b9c5c2\", \"#b8c4c1\", \"#b7c3c0\", \"#b6c2bf\", \"#b5c1be\", \"#b4c0bd\", \"#b3bfbc\", \"#b2bebb\", \"#b1bdba\", \"#b0bcb9\", \"#afbbb8\", \"#aebab7\", \"#adb9b6\", \"#acb8b5\", \"#abb7b4\", \"#aab6b3\", \"#a9b5b2\", \"#a8b4b1\", \"#a7b3b0\", \"#a6b2af\", \"#a5b1ae\", \"#a4b0ad\", \"#a3afac\", \"#a2aeab\", \"#a1adaa\", \"#a0aca9\", \"#9faba8\", \"#9eaaa7\", \"#9da9a6\", \"#9ca8a5\", \"#9ba7a4\", \"#9aa6a3\", \"#99a5a2\", \"#98a4a1\", \"#97a3a0\", \"#96a29f\", \"#95a19e\", \"#94a09d\", \"#939f9c\", \"#929e9b\", \"#919d9a\", \"#909c99\", \"#8f9b98\", \"#8e9a97\", \"#8d9996\", \"#8c9895\", \"#8b9794\", \"#8a9693\", \"#899592\", \"#889491\", \"#879390\", \"#86928f\", \"#85918e\", \"#84908d\", \"#838f8c\", \"#828e8b\", \"#818d8a\", \"#808c89\", \"#7f8b88\", \"#7e8a87\", \"#7d8986\", \"#7c8885\", \"#7b8784\", \"#7a8683\", \"#798582\", \"#788481\", \"#778380\", \"#76827f\", \"#75817e\", \"#74807d\", \"#737f7c\", \"#727e7b\", \"#717d7a\", \"#707c79\", \"#6f7b78\", \"#6e7a77\", \"#6d7976\", \"#6c7875\", \"#6b7774\", \"#6a7673\", \"#697572\", \"#687471\", \"#677370\", \"#66726f\", \"#65716e\", \"#64706d\", \"#636f6c\", \"#626e6b\", \"#616d6a\", \"#606c69\", \"#5f6b68\", \"#5e6a67\", \"#5d6966\", \"#5c6865\", \"#5b6764\", \"#5a6663\", \"#596562\", \"#586461\", \"#576360\", \"#56625f\", \"#55615e\", \"#54605d\", \"#535f5c\", \"#525e5b\", \"#515d5a\", \"#505c59\", \"#4f5b58\", \"#4e5a57\", \"#4d5956\", \"#4c5855\", \"#4b5754\", \"#4a5653\", \"#495552\", \"#485451\", \"#475350\", \"#46524f\", \"#45514e\", \"#44504d\", \"#434f4c\", \"#424e4b\", \"#414d4a\", \"#404c49\", \"#3f4b48\", \"#3e4a47\", \"#3d4946\", \"#3c4845\", \"#3b4744\", \"#3a4643\", \"#394542\", \"#384441\", \"#374340\", \"#36423f\", \"#35413e\", \"#34403d\", \"#333f3c\", \"#323e3b\", \"#313d3a\", \"#303c39\", \"#2f3b38\", \"#2e3a37\", \"#2d3936\", \"#2c3835\", \"#2b3734\", \"#2a3633\", \"#293532\", \"#283431\", \"#273330\", \"#26322f\", \"#25312e\", \"#24302d\", \"#232f2c\", \"#222e2b\", \"#212d2a\", \"#202c29\", \"#1f2b28\", \"#1e2a27\", \"#1d2926\", \"#1c2825\", \"#1b2724\", \"#1a2623\"], \"type\": \"quantize\"}], \"width\": 960}, function(chart) {\n",
       "         chart({el: \"#vis0b5e65f15ec644daaabe70fa03740cf6\"}).update();\n",
       "       });\n",
       "     };\n",
       "     _do_plot();\n",
       "   })();\n",
       "</script>\n",
       "<style>.vega canvas {width: 100%;}</style>\n",
       "        "
      ],
      "text/plain": [
       "<IPython.core.display.HTML object>"
      ]
     },
     "metadata": {},
     "output_type": "display_data"
    }
   ],
   "source": [
    "plot_map(artist_popularity, title='Popularity of Pink Floyd')"
   ]
  },
  {
   "cell_type": "code",
   "execution_count": 333,
   "metadata": {
    "collapsed": false
   },
   "outputs": [
    {
     "data": {
      "text/plain": [
       "435"
      ]
     },
     "execution_count": 333,
     "metadata": {},
     "output_type": "execute_result"
    }
   ],
   "source": [
    "len(graph.edges())"
   ]
  },
  {
   "cell_type": "code",
   "execution_count": 535,
   "metadata": {
    "collapsed": false
   },
   "outputs": [
    {
     "data": {
      "text/plain": [
       "array([1, 2, 3])"
      ]
     },
     "execution_count": 535,
     "metadata": {},
     "output_type": "execute_result"
    }
   ],
   "source": [
    "np.unique(data.group)"
   ]
  },
  {
   "cell_type": "code",
   "execution_count": 529,
   "metadata": {
    "collapsed": false
   },
   "outputs": [
    {
     "name": "stdout",
     "output_type": "stream",
     "text": [
      "None\n"
     ]
    }
   ],
   "source": [
    "part.get('betty blowtorch')"
   ]
  },
  {
   "cell_type": "code",
   "execution_count": 541,
   "metadata": {
    "collapsed": false
   },
   "outputs": [
    {
     "data": {
      "text/html": [
       "<div>\n",
       "<table border=\"1\" class=\"dataframe\">\n",
       "  <thead>\n",
       "    <tr style=\"text-align: right;\">\n",
       "      <th></th>\n",
       "      <th>userid</th>\n",
       "      <th>artistid</th>\n",
       "      <th>artist_name</th>\n",
       "      <th>plays</th>\n",
       "      <th>gender</th>\n",
       "      <th>age</th>\n",
       "      <th>country</th>\n",
       "      <th>dos</th>\n",
       "      <th>group</th>\n",
       "    </tr>\n",
       "  </thead>\n",
       "  <tbody>\n",
       "    <tr>\n",
       "      <th>0</th>\n",
       "      <td>00000c289a1829a808ac09c00daf10bc3c4e223b</td>\n",
       "      <td>3bd73256-3905-4f3a-97e2-8b341527f805</td>\n",
       "      <td>betty blowtorch</td>\n",
       "      <td>2137</td>\n",
       "      <td>f</td>\n",
       "      <td>22</td>\n",
       "      <td>Germany</td>\n",
       "      <td>Feb 1, 2007</td>\n",
       "      <td>0</td>\n",
       "    </tr>\n",
       "    <tr>\n",
       "      <th>1</th>\n",
       "      <td>00000c289a1829a808ac09c00daf10bc3c4e223b</td>\n",
       "      <td>f2fb0ff0-5679-42ec-a55c-15109ce6e320</td>\n",
       "      <td>die Ärzte</td>\n",
       "      <td>1099</td>\n",
       "      <td>f</td>\n",
       "      <td>22</td>\n",
       "      <td>Germany</td>\n",
       "      <td>Feb 1, 2007</td>\n",
       "      <td>0</td>\n",
       "    </tr>\n",
       "    <tr>\n",
       "      <th>2</th>\n",
       "      <td>00000c289a1829a808ac09c00daf10bc3c4e223b</td>\n",
       "      <td>b3ae82c2-e60b-4551-a76d-6620f1b456aa</td>\n",
       "      <td>melissa etheridge</td>\n",
       "      <td>897</td>\n",
       "      <td>f</td>\n",
       "      <td>22</td>\n",
       "      <td>Germany</td>\n",
       "      <td>Feb 1, 2007</td>\n",
       "      <td>0</td>\n",
       "    </tr>\n",
       "    <tr>\n",
       "      <th>3</th>\n",
       "      <td>00000c289a1829a808ac09c00daf10bc3c4e223b</td>\n",
       "      <td>3d6bbeb7-f90e-4d10-b440-e153c0d10b53</td>\n",
       "      <td>elvenking</td>\n",
       "      <td>717</td>\n",
       "      <td>f</td>\n",
       "      <td>22</td>\n",
       "      <td>Germany</td>\n",
       "      <td>Feb 1, 2007</td>\n",
       "      <td>0</td>\n",
       "    </tr>\n",
       "    <tr>\n",
       "      <th>4</th>\n",
       "      <td>00000c289a1829a808ac09c00daf10bc3c4e223b</td>\n",
       "      <td>bbd2ffd7-17f4-4506-8572-c1ea58c3f9a8</td>\n",
       "      <td>juliette &amp; the licks</td>\n",
       "      <td>706</td>\n",
       "      <td>f</td>\n",
       "      <td>22</td>\n",
       "      <td>Germany</td>\n",
       "      <td>Feb 1, 2007</td>\n",
       "      <td>0</td>\n",
       "    </tr>\n",
       "  </tbody>\n",
       "</table>\n",
       "</div>"
      ],
      "text/plain": [
       "                                     userid  \\\n",
       "0  00000c289a1829a808ac09c00daf10bc3c4e223b   \n",
       "1  00000c289a1829a808ac09c00daf10bc3c4e223b   \n",
       "2  00000c289a1829a808ac09c00daf10bc3c4e223b   \n",
       "3  00000c289a1829a808ac09c00daf10bc3c4e223b   \n",
       "4  00000c289a1829a808ac09c00daf10bc3c4e223b   \n",
       "\n",
       "                               artistid           artist_name  plays gender  \\\n",
       "0  3bd73256-3905-4f3a-97e2-8b341527f805       betty blowtorch   2137      f   \n",
       "1  f2fb0ff0-5679-42ec-a55c-15109ce6e320             die Ärzte   1099      f   \n",
       "2  b3ae82c2-e60b-4551-a76d-6620f1b456aa     melissa etheridge    897      f   \n",
       "3  3d6bbeb7-f90e-4d10-b440-e153c0d10b53             elvenking    717      f   \n",
       "4  bbd2ffd7-17f4-4506-8572-c1ea58c3f9a8  juliette & the licks    706      f   \n",
       "\n",
       "   age  country          dos  group  \n",
       "0   22  Germany  Feb 1, 2007      0  \n",
       "1   22  Germany  Feb 1, 2007      0  \n",
       "2   22  Germany  Feb 1, 2007      0  \n",
       "3   22  Germany  Feb 1, 2007      0  \n",
       "4   22  Germany  Feb 1, 2007      0  "
      ]
     },
     "execution_count": 541,
     "metadata": {},
     "output_type": "execute_result"
    }
   ],
   "source": [
    "data.head()"
   ]
  },
  {
   "cell_type": "code",
   "execution_count": 542,
   "metadata": {
    "collapsed": true
   },
   "outputs": [],
   "source": [
    "data.to_csv('10000users.csv')"
   ]
  },
  {
   "cell_type": "code",
   "execution_count": null,
   "metadata": {
    "collapsed": true
   },
   "outputs": [],
   "source": []
  }
 ],
 "metadata": {
  "kernelspec": {
   "display_name": "Python 2",
   "language": "python",
   "name": "python2"
  },
  "language_info": {
   "codemirror_mode": {
    "name": "ipython",
    "version": 2
   },
   "file_extension": ".py",
   "mimetype": "text/x-python",
   "name": "python",
   "nbconvert_exporter": "python",
   "pygments_lexer": "ipython2",
   "version": "2.7.6"
  }
 },
 "nbformat": 4,
 "nbformat_minor": 0
}
